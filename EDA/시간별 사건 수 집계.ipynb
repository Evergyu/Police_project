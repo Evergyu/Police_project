{
 "cells": [
  {
   "cell_type": "code",
   "execution_count": 2,
   "id": "e0a19350",
   "metadata": {},
   "outputs": [],
   "source": [
    "import pandas as pd\n",
    "import numpy as np\n",
    "%matplotlib inline"
   ]
  },
  {
   "cell_type": "code",
   "execution_count": 3,
   "id": "327e6df0",
   "metadata": {},
   "outputs": [],
   "source": [
    "# row 생략 없이 출력\n",
    "pd.set_option('display.max_rows', None)\n",
    "# col 생략 없이 출력\n",
    "pd.set_option('display.max_columns', None)"
   ]
  },
  {
   "cell_type": "code",
   "execution_count": 4,
   "id": "aeead0be",
   "metadata": {},
   "outputs": [
    {
     "data": {
      "text/html": [
       "<div>\n",
       "<style scoped>\n",
       "    .dataframe tbody tr th:only-of-type {\n",
       "        vertical-align: middle;\n",
       "    }\n",
       "\n",
       "    .dataframe tbody tr th {\n",
       "        vertical-align: top;\n",
       "    }\n",
       "\n",
       "    .dataframe thead th {\n",
       "        text-align: right;\n",
       "    }\n",
       "</style>\n",
       "<table border=\"1\" class=\"dataframe\">\n",
       "  <thead>\n",
       "    <tr style=\"text-align: right;\">\n",
       "      <th></th>\n",
       "      <th>Recv_Dept Nm</th>\n",
       "      <th>도</th>\n",
       "      <th>시</th>\n",
       "      <th>Recv_Cplt_Dm</th>\n",
       "      <th>Npa_Cl</th>\n",
       "      <th>Evt_CL_CD</th>\n",
       "      <th>Evt_Stat_Cd</th>\n",
       "      <th>Hppn_X</th>\n",
       "      <th>Hppn_Y</th>\n",
       "      <th>Rpter_Sex</th>\n",
       "      <th>Sme_Evt_Yn</th>\n",
       "    </tr>\n",
       "  </thead>\n",
       "  <tbody>\n",
       "    <tr>\n",
       "      <th>0</th>\n",
       "      <td>충남청</td>\n",
       "      <td>충청남도</td>\n",
       "      <td>아산시</td>\n",
       "      <td>2021-05-03</td>\n",
       "      <td>19</td>\n",
       "      <td>501</td>\n",
       "      <td>10</td>\n",
       "      <td>127.092762</td>\n",
       "      <td>36.781250</td>\n",
       "      <td>2</td>\n",
       "      <td>Y</td>\n",
       "    </tr>\n",
       "    <tr>\n",
       "      <th>1</th>\n",
       "      <td>대전청</td>\n",
       "      <td>대전광역시</td>\n",
       "      <td>유성구</td>\n",
       "      <td>2021-05-03</td>\n",
       "      <td>13</td>\n",
       "      <td>601</td>\n",
       "      <td>10</td>\n",
       "      <td>127.305689</td>\n",
       "      <td>36.332023</td>\n",
       "      <td>3</td>\n",
       "      <td>Y</td>\n",
       "    </tr>\n",
       "    <tr>\n",
       "      <th>2</th>\n",
       "      <td>대전청</td>\n",
       "      <td>대전광역시</td>\n",
       "      <td>유성구</td>\n",
       "      <td>2021-04-27</td>\n",
       "      <td>13</td>\n",
       "      <td>201</td>\n",
       "      <td>10</td>\n",
       "      <td>127.339578</td>\n",
       "      <td>36.347469</td>\n",
       "      <td>1</td>\n",
       "      <td>Y</td>\n",
       "    </tr>\n",
       "    <tr>\n",
       "      <th>3</th>\n",
       "      <td>충남청</td>\n",
       "      <td>충청남도</td>\n",
       "      <td>보령시</td>\n",
       "      <td>2021-05-01</td>\n",
       "      <td>19</td>\n",
       "      <td>201</td>\n",
       "      <td>10</td>\n",
       "      <td>126.534663</td>\n",
       "      <td>36.242860</td>\n",
       "      <td>3</td>\n",
       "      <td>Y</td>\n",
       "    </tr>\n",
       "    <tr>\n",
       "      <th>4</th>\n",
       "      <td>충남청</td>\n",
       "      <td>[공중전화]</td>\n",
       "      <td>충청남도</td>\n",
       "      <td>2021-05-01</td>\n",
       "      <td>19</td>\n",
       "      <td>601</td>\n",
       "      <td>10</td>\n",
       "      <td>126.692715</td>\n",
       "      <td>36.168714</td>\n",
       "      <td>3</td>\n",
       "      <td>Y</td>\n",
       "    </tr>\n",
       "  </tbody>\n",
       "</table>\n",
       "</div>"
      ],
      "text/plain": [
       "  Recv_Dept Nm       도     시 Recv_Cplt_Dm  Npa_Cl  Evt_CL_CD  Evt_Stat_Cd  \\\n",
       "0          충남청    충청남도   아산시   2021-05-03      19        501           10   \n",
       "1          대전청   대전광역시   유성구   2021-05-03      13        601           10   \n",
       "2          대전청   대전광역시   유성구   2021-04-27      13        201           10   \n",
       "3          충남청    충청남도   보령시   2021-05-01      19        201           10   \n",
       "4          충남청  [공중전화]  충청남도   2021-05-01      19        601           10   \n",
       "\n",
       "       Hppn_X     Hppn_Y  Rpter_Sex Sme_Evt_Yn  \n",
       "0  127.092762  36.781250          2          Y  \n",
       "1  127.305689  36.332023          3          Y  \n",
       "2  127.339578  36.347469          1          Y  \n",
       "3  126.534663  36.242860          3          Y  \n",
       "4  126.692715  36.168714          3          Y  "
      ]
     },
     "execution_count": 4,
     "metadata": {},
     "output_type": "execute_result"
    }
   ],
   "source": [
    "df=pd.read_csv('../result_data/split_city.csv',encoding='utf8')\n",
    "df.head()"
   ]
  },
  {
   "cell_type": "markdown",
   "id": "a9700c4d",
   "metadata": {},
   "source": [
    "### 월별 사건 사고 수 집계\n",
    "### Recv Cplt Dm 의 값이 str 이라서 DataFrame.timestamp로 변형"
   ]
  },
  {
   "cell_type": "code",
   "execution_count": 5,
   "id": "e10c02d2",
   "metadata": {},
   "outputs": [
    {
     "data": {
      "text/plain": [
       "Recv_Dept Nm            object\n",
       "도                       object\n",
       "시                       object\n",
       "Recv_Cplt_Dm    datetime64[ns]\n",
       "Npa_Cl                   int64\n",
       "Evt_CL_CD                int64\n",
       "Evt_Stat_Cd              int64\n",
       "Hppn_X                 float64\n",
       "Hppn_Y                 float64\n",
       "Rpter_Sex                int64\n",
       "Sme_Evt_Yn              object\n",
       "dtype: object"
      ]
     },
     "execution_count": 5,
     "metadata": {},
     "output_type": "execute_result"
    }
   ],
   "source": [
    "df['Recv_Cplt_Dm'] = pd.to_datetime(df['Recv_Cplt_Dm'], format='%Y-%m-%d')\n",
    "df.dtypes"
   ]
  },
  {
   "cell_type": "markdown",
   "id": "01060c5e",
   "metadata": {},
   "source": [
    "### 월별 401~406 Dataframe 분류"
   ]
  },
  {
   "cell_type": "code",
   "execution_count": 6,
   "id": "fdc4dfd4",
   "metadata": {},
   "outputs": [],
   "source": [
    "df_transportation=df[(df['Evt_CL_CD']>400) & (df['Evt_CL_CD']<407)]"
   ]
  },
  {
   "cell_type": "markdown",
   "id": "dc272911",
   "metadata": {},
   "source": [
    "### 월별 401~406 각각 사건 수"
   ]
  },
  {
   "cell_type": "code",
   "execution_count": 7,
   "id": "a3864362",
   "metadata": {},
   "outputs": [],
   "source": [
    "df_time_countof=df_transportation.groupby(df_transportation.Recv_Cplt_Dm.dt.time)['Evt_CL_CD'].value_counts()"
   ]
  },
  {
   "cell_type": "code",
   "execution_count": 9,
   "id": "d6961848",
   "metadata": {},
   "outputs": [
    {
     "data": {
      "text/plain": [
       "Recv_Cplt_Dm  Evt_CL_CD\n",
       "00:00:00      401          37322\n",
       "              406          15787\n",
       "              402           9316\n",
       "              403           5872\n",
       "              404             10\n",
       "Name: Evt_CL_CD, dtype: int64"
      ]
     },
     "execution_count": 9,
     "metadata": {},
     "output_type": "execute_result"
    }
   ],
   "source": [
    "df_time_countof.head()"
   ]
  }
 ],
 "metadata": {
  "kernelspec": {
   "display_name": "Python 3 (ipykernel)",
   "language": "python",
   "name": "python3"
  },
  "language_info": {
   "codemirror_mode": {
    "name": "ipython",
    "version": 3
   },
   "file_extension": ".py",
   "mimetype": "text/x-python",
   "name": "python",
   "nbconvert_exporter": "python",
   "pygments_lexer": "ipython3",
   "version": "3.9.13"
  }
 },
 "nbformat": 4,
 "nbformat_minor": 5
}
