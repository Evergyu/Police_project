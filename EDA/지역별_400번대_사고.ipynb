{
 "cells": [
  {
   "cell_type": "code",
   "execution_count": 1,
   "id": "48c57aaf",
   "metadata": {},
   "outputs": [],
   "source": [
    "import pandas as pd\n",
    "import numpy as np\n",
    "%matplotlib inline"
   ]
  },
  {
   "cell_type": "code",
   "execution_count": 2,
   "id": "6d397eac",
   "metadata": {},
   "outputs": [],
   "source": [
    "# row 생략 없이 출력\n",
    "pd.set_option('display.max_rows', None)\n",
    "# col 생략 없이 출력\n",
    "pd.set_option('display.max_columns', None)"
   ]
  },
  {
   "cell_type": "code",
   "execution_count": 2,
   "id": "0f391d40",
   "metadata": {},
   "outputs": [
    {
     "data": {
      "text/html": [
       "<div>\n",
       "<style scoped>\n",
       "    .dataframe tbody tr th:only-of-type {\n",
       "        vertical-align: middle;\n",
       "    }\n",
       "\n",
       "    .dataframe tbody tr th {\n",
       "        vertical-align: top;\n",
       "    }\n",
       "\n",
       "    .dataframe thead th {\n",
       "        text-align: right;\n",
       "    }\n",
       "</style>\n",
       "<table border=\"1\" class=\"dataframe\">\n",
       "  <thead>\n",
       "    <tr style=\"text-align: right;\">\n",
       "      <th></th>\n",
       "      <th>Recv Cplt Dm</th>\n",
       "      <th>Recv Dept Nm</th>\n",
       "      <th>Sme Evt Yn</th>\n",
       "      <th>도</th>\n",
       "      <th>시</th>\n",
       "      <th>Evt Cl Cd</th>\n",
       "      <th>Evt Stat Cd</th>\n",
       "      <th>F1</th>\n",
       "      <th>Hppn X</th>\n",
       "      <th>Hppn Y</th>\n",
       "      <th>Npa Cl</th>\n",
       "      <th>Rpter Sex</th>\n",
       "    </tr>\n",
       "  </thead>\n",
       "  <tbody>\n",
       "    <tr>\n",
       "      <th>0</th>\n",
       "      <td>2021-05-03 오전 10:51:12</td>\n",
       "      <td>충남청</td>\n",
       "      <td>Y</td>\n",
       "      <td>충청남도</td>\n",
       "      <td>아산시</td>\n",
       "      <td>501</td>\n",
       "      <td>10</td>\n",
       "      <td>65536</td>\n",
       "      <td>127.092762</td>\n",
       "      <td>36.781250</td>\n",
       "      <td>19</td>\n",
       "      <td>2</td>\n",
       "    </tr>\n",
       "    <tr>\n",
       "      <th>1</th>\n",
       "      <td>2021-05-03 오전 11:41:51</td>\n",
       "      <td>대전청</td>\n",
       "      <td>Y</td>\n",
       "      <td>대전광역시</td>\n",
       "      <td>유성구</td>\n",
       "      <td>601</td>\n",
       "      <td>10</td>\n",
       "      <td>65537</td>\n",
       "      <td>127.305689</td>\n",
       "      <td>36.332023</td>\n",
       "      <td>13</td>\n",
       "      <td>3</td>\n",
       "    </tr>\n",
       "    <tr>\n",
       "      <th>2</th>\n",
       "      <td>2021-04-27 오전 10:22:51</td>\n",
       "      <td>대전청</td>\n",
       "      <td>Y</td>\n",
       "      <td>대전광역시</td>\n",
       "      <td>유성구</td>\n",
       "      <td>201</td>\n",
       "      <td>10</td>\n",
       "      <td>65538</td>\n",
       "      <td>127.339578</td>\n",
       "      <td>36.347469</td>\n",
       "      <td>13</td>\n",
       "      <td>1</td>\n",
       "    </tr>\n",
       "    <tr>\n",
       "      <th>3</th>\n",
       "      <td>2021-05-01 오후 7:24:30</td>\n",
       "      <td>충남청</td>\n",
       "      <td>Y</td>\n",
       "      <td>충청남도</td>\n",
       "      <td>보령시</td>\n",
       "      <td>201</td>\n",
       "      <td>10</td>\n",
       "      <td>65539</td>\n",
       "      <td>126.534663</td>\n",
       "      <td>36.242860</td>\n",
       "      <td>19</td>\n",
       "      <td>3</td>\n",
       "    </tr>\n",
       "    <tr>\n",
       "      <th>4</th>\n",
       "      <td>2021-05-01 오후 7:45:36</td>\n",
       "      <td>충남청</td>\n",
       "      <td>Y</td>\n",
       "      <td>[공중전화]</td>\n",
       "      <td>충청남도</td>\n",
       "      <td>601</td>\n",
       "      <td>10</td>\n",
       "      <td>65540</td>\n",
       "      <td>126.692715</td>\n",
       "      <td>36.168714</td>\n",
       "      <td>19</td>\n",
       "      <td>3</td>\n",
       "    </tr>\n",
       "  </tbody>\n",
       "</table>\n",
       "</div>"
      ],
      "text/plain": [
       "             Recv Cplt Dm Recv Dept Nm Sme Evt Yn       도     시  Evt Cl Cd  \\\n",
       "0  2021-05-03 오전 10:51:12          충남청          Y    충청남도   아산시        501   \n",
       "1  2021-05-03 오전 11:41:51          대전청          Y   대전광역시   유성구        601   \n",
       "2  2021-04-27 오전 10:22:51          대전청          Y   대전광역시   유성구        201   \n",
       "3   2021-05-01 오후 7:24:30          충남청          Y    충청남도   보령시        201   \n",
       "4   2021-05-01 오후 7:45:36          충남청          Y  [공중전화]  충청남도        601   \n",
       "\n",
       "   Evt Stat Cd     F1      Hppn X     Hppn Y  Npa Cl  Rpter Sex  \n",
       "0           10  65536  127.092762  36.781250      19          2  \n",
       "1           10  65537  127.305689  36.332023      13          3  \n",
       "2           10  65538  127.339578  36.347469      13          1  \n",
       "3           10  65539  126.534663  36.242860      19          3  \n",
       "4           10  65540  126.692715  36.168714      19          3  "
      ]
     },
     "execution_count": 2,
     "metadata": {},
     "output_type": "execute_result"
    }
   ],
   "source": [
    "df=pd.read_csv('../result_data/new_split_city.csv',encoding='utf8')\n",
    "\n",
    "df.head()"
   ]
  },
  {
   "cell_type": "code",
   "execution_count": 3,
   "id": "e5f4e7ff",
   "metadata": {},
   "outputs": [
    {
     "ename": "KeyError",
     "evalue": "'Evt_CL_CD'",
     "output_type": "error",
     "traceback": [
      "\u001b[1;31m---------------------------------------------------------------------------\u001b[0m",
      "\u001b[1;31mKeyError\u001b[0m                                  Traceback (most recent call last)",
      "File \u001b[1;32m~\\Anaconda3\\envs\\py38\\lib\\site-packages\\pandas\\core\\indexes\\base.py:3803\u001b[0m, in \u001b[0;36mIndex.get_loc\u001b[1;34m(self, key, method, tolerance)\u001b[0m\n\u001b[0;32m   3802\u001b[0m \u001b[38;5;28;01mtry\u001b[39;00m:\n\u001b[1;32m-> 3803\u001b[0m     \u001b[38;5;28;01mreturn\u001b[39;00m \u001b[38;5;28;43mself\u001b[39;49m\u001b[38;5;241;43m.\u001b[39;49m\u001b[43m_engine\u001b[49m\u001b[38;5;241;43m.\u001b[39;49m\u001b[43mget_loc\u001b[49m\u001b[43m(\u001b[49m\u001b[43mcasted_key\u001b[49m\u001b[43m)\u001b[49m\n\u001b[0;32m   3804\u001b[0m \u001b[38;5;28;01mexcept\u001b[39;00m \u001b[38;5;167;01mKeyError\u001b[39;00m \u001b[38;5;28;01mas\u001b[39;00m err:\n",
      "File \u001b[1;32m~\\Anaconda3\\envs\\py38\\lib\\site-packages\\pandas\\_libs\\index.pyx:138\u001b[0m, in \u001b[0;36mpandas._libs.index.IndexEngine.get_loc\u001b[1;34m()\u001b[0m\n",
      "File \u001b[1;32m~\\Anaconda3\\envs\\py38\\lib\\site-packages\\pandas\\_libs\\index.pyx:165\u001b[0m, in \u001b[0;36mpandas._libs.index.IndexEngine.get_loc\u001b[1;34m()\u001b[0m\n",
      "File \u001b[1;32mpandas\\_libs\\hashtable_class_helper.pxi:5745\u001b[0m, in \u001b[0;36mpandas._libs.hashtable.PyObjectHashTable.get_item\u001b[1;34m()\u001b[0m\n",
      "File \u001b[1;32mpandas\\_libs\\hashtable_class_helper.pxi:5753\u001b[0m, in \u001b[0;36mpandas._libs.hashtable.PyObjectHashTable.get_item\u001b[1;34m()\u001b[0m\n",
      "\u001b[1;31mKeyError\u001b[0m: 'Evt_CL_CD'",
      "\nThe above exception was the direct cause of the following exception:\n",
      "\u001b[1;31mKeyError\u001b[0m                                  Traceback (most recent call last)",
      "Cell \u001b[1;32mIn[3], line 1\u001b[0m\n\u001b[1;32m----> 1\u001b[0m df_tranportation\u001b[38;5;241m=\u001b[39mdf[(\u001b[43mdf\u001b[49m\u001b[43m[\u001b[49m\u001b[38;5;124;43m'\u001b[39;49m\u001b[38;5;124;43mEvt_CL_CD\u001b[39;49m\u001b[38;5;124;43m'\u001b[39;49m\u001b[43m]\u001b[49m\u001b[38;5;241m>\u001b[39m\u001b[38;5;241m400\u001b[39m) \u001b[38;5;241m&\u001b[39m (df[\u001b[38;5;124m'\u001b[39m\u001b[38;5;124mEvt_CL_CD\u001b[39m\u001b[38;5;124m'\u001b[39m]\u001b[38;5;241m<\u001b[39m\u001b[38;5;241m407\u001b[39m)]\n",
      "File \u001b[1;32m~\\Anaconda3\\envs\\py38\\lib\\site-packages\\pandas\\core\\frame.py:3805\u001b[0m, in \u001b[0;36mDataFrame.__getitem__\u001b[1;34m(self, key)\u001b[0m\n\u001b[0;32m   3803\u001b[0m \u001b[38;5;28;01mif\u001b[39;00m \u001b[38;5;28mself\u001b[39m\u001b[38;5;241m.\u001b[39mcolumns\u001b[38;5;241m.\u001b[39mnlevels \u001b[38;5;241m>\u001b[39m \u001b[38;5;241m1\u001b[39m:\n\u001b[0;32m   3804\u001b[0m     \u001b[38;5;28;01mreturn\u001b[39;00m \u001b[38;5;28mself\u001b[39m\u001b[38;5;241m.\u001b[39m_getitem_multilevel(key)\n\u001b[1;32m-> 3805\u001b[0m indexer \u001b[38;5;241m=\u001b[39m \u001b[38;5;28;43mself\u001b[39;49m\u001b[38;5;241;43m.\u001b[39;49m\u001b[43mcolumns\u001b[49m\u001b[38;5;241;43m.\u001b[39;49m\u001b[43mget_loc\u001b[49m\u001b[43m(\u001b[49m\u001b[43mkey\u001b[49m\u001b[43m)\u001b[49m\n\u001b[0;32m   3806\u001b[0m \u001b[38;5;28;01mif\u001b[39;00m is_integer(indexer):\n\u001b[0;32m   3807\u001b[0m     indexer \u001b[38;5;241m=\u001b[39m [indexer]\n",
      "File \u001b[1;32m~\\Anaconda3\\envs\\py38\\lib\\site-packages\\pandas\\core\\indexes\\base.py:3805\u001b[0m, in \u001b[0;36mIndex.get_loc\u001b[1;34m(self, key, method, tolerance)\u001b[0m\n\u001b[0;32m   3803\u001b[0m     \u001b[38;5;28;01mreturn\u001b[39;00m \u001b[38;5;28mself\u001b[39m\u001b[38;5;241m.\u001b[39m_engine\u001b[38;5;241m.\u001b[39mget_loc(casted_key)\n\u001b[0;32m   3804\u001b[0m \u001b[38;5;28;01mexcept\u001b[39;00m \u001b[38;5;167;01mKeyError\u001b[39;00m \u001b[38;5;28;01mas\u001b[39;00m err:\n\u001b[1;32m-> 3805\u001b[0m     \u001b[38;5;28;01mraise\u001b[39;00m \u001b[38;5;167;01mKeyError\u001b[39;00m(key) \u001b[38;5;28;01mfrom\u001b[39;00m \u001b[38;5;21;01merr\u001b[39;00m\n\u001b[0;32m   3806\u001b[0m \u001b[38;5;28;01mexcept\u001b[39;00m \u001b[38;5;167;01mTypeError\u001b[39;00m:\n\u001b[0;32m   3807\u001b[0m     \u001b[38;5;66;03m# If we have a listlike key, _check_indexing_error will raise\u001b[39;00m\n\u001b[0;32m   3808\u001b[0m     \u001b[38;5;66;03m#  InvalidIndexError. Otherwise we fall through and re-raise\u001b[39;00m\n\u001b[0;32m   3809\u001b[0m     \u001b[38;5;66;03m#  the TypeError.\u001b[39;00m\n\u001b[0;32m   3810\u001b[0m     \u001b[38;5;28mself\u001b[39m\u001b[38;5;241m.\u001b[39m_check_indexing_error(key)\n",
      "\u001b[1;31mKeyError\u001b[0m: 'Evt_CL_CD'"
     ]
    }
   ],
   "source": [
    "df_tranportation=df[(df['Evt_CL_CD']>400) & (df['Evt_CL_CD']<407)]"
   ]
  },
  {
   "cell_type": "code",
   "execution_count": null,
   "id": "24669a9e",
   "metadata": {},
   "outputs": [],
   "source": [
    "df_tranportation.head()"
   ]
  },
  {
   "cell_type": "markdown",
   "id": "693e98ca",
   "metadata": {},
   "source": [
    "### 400번대 신고접수가 가장 많은 지역"
   ]
  },
  {
   "cell_type": "code",
   "execution_count": null,
   "id": "6c500654",
   "metadata": {},
   "outputs": [],
   "source": [
    "df_Evt_CL_CD=df_tranportation['Evt_CL_CD'].groupby([df_tranportation['도'],df_tranportation['시']]).count().to_frame()\n",
    "display(df_Evt_CL_CD)"
   ]
  },
  {
   "cell_type": "markdown",
   "id": "725f0580",
   "metadata": {},
   "source": [
    "### 최근 2개년치 중 교통관련 신고 접수가 가장 많이 접수된 도시 순"
   ]
  },
  {
   "cell_type": "code",
   "execution_count": null,
   "id": "8fdb3a9b",
   "metadata": {},
   "outputs": [],
   "source": [
    "df_Evt_CL_CD['Evt_CL_CD'].sort_values(ascending=False).to_frame()"
   ]
  },
  {
   "cell_type": "markdown",
   "id": "a732e6b4",
   "metadata": {},
   "source": [
    "### 교통관련 신고 접수가 가장 많은 천안시의 사고"
   ]
  },
  {
   "cell_type": "code",
   "execution_count": null,
   "id": "ca246142",
   "metadata": {},
   "outputs": [],
   "source": [
    "df_tranportation_chungagn=df_tranportation[df_tranportation['시']=='천안시']"
   ]
  },
  {
   "cell_type": "markdown",
   "id": "c0a7124f",
   "metadata": {},
   "source": [
    " ### 사고 코드\n",
    "     교통사고\t401\n",
    "     교통불편\t402\n",
    "     교통위반\t403\n",
    "     사망.대형사고 404\n",
    "    인피도주\t405\n",
    "     음주운전\t406"
   ]
  },
  {
   "cell_type": "code",
   "execution_count": null,
   "id": "4f08d3aa",
   "metadata": {},
   "outputs": [],
   "source": [
    "df_tranportation_chungagn['Evt_CL_CD'].value_counts() ### 천안은 교통사고가 가장 많았고, 그 다음 음주운전, 교통불편, 교통위반 순으로 많았다."
   ]
  },
  {
   "cell_type": "code",
   "execution_count": null,
   "id": "25a425c1",
   "metadata": {},
   "outputs": [],
   "source": []
  },
  {
   "cell_type": "code",
   "execution_count": null,
   "id": "a28c1931",
   "metadata": {},
   "outputs": [],
   "source": []
  },
  {
   "cell_type": "code",
   "execution_count": null,
   "id": "4f01f64b",
   "metadata": {},
   "outputs": [],
   "source": []
  }
 ],
 "metadata": {
  "kernelspec": {
   "display_name": "Python 3 (ipykernel)",
   "language": "python",
   "name": "python3"
  },
  "language_info": {
   "codemirror_mode": {
    "name": "ipython",
    "version": 3
   },
   "file_extension": ".py",
   "mimetype": "text/x-python",
   "name": "python",
   "nbconvert_exporter": "python",
   "pygments_lexer": "ipython3",
   "version": "3.8.11"
  }
 },
 "nbformat": 4,
 "nbformat_minor": 5
}
