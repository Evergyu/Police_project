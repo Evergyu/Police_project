{
 "cells": [
  {
   "cell_type": "code",
   "execution_count": 2,
   "id": "3f696e90",
   "metadata": {},
   "outputs": [],
   "source": [
    "import pandas as pd\n",
    "import numpy as np\n",
    "%matplotlib inline"
   ]
  },
  {
   "cell_type": "code",
   "execution_count": 3,
   "id": "73724ab0",
   "metadata": {},
   "outputs": [],
   "source": [
    "# row 생략 없이 출력\n",
    "pd.set_option('display.max_rows', None)\n",
    "# col 생략 없이 출력\n",
    "pd.set_option('display.max_columns', None)"
   ]
  },
  {
   "cell_type": "code",
   "execution_count": 4,
   "id": "5fb0458f",
   "metadata": {},
   "outputs": [
    {
     "data": {
      "text/html": [
       "<div>\n",
       "<style scoped>\n",
       "    .dataframe tbody tr th:only-of-type {\n",
       "        vertical-align: middle;\n",
       "    }\n",
       "\n",
       "    .dataframe tbody tr th {\n",
       "        vertical-align: top;\n",
       "    }\n",
       "\n",
       "    .dataframe thead th {\n",
       "        text-align: right;\n",
       "    }\n",
       "</style>\n",
       "<table border=\"1\" class=\"dataframe\">\n",
       "  <thead>\n",
       "    <tr style=\"text-align: right;\">\n",
       "      <th></th>\n",
       "      <th>Recv_Dept Nm</th>\n",
       "      <th>도</th>\n",
       "      <th>시</th>\n",
       "      <th>Recv_Cplt_Dm</th>\n",
       "      <th>Npa_Cl</th>\n",
       "      <th>Evt_CL_CD</th>\n",
       "      <th>Evt_Stat_Cd</th>\n",
       "      <th>Hppn_X</th>\n",
       "      <th>Hppn_Y</th>\n",
       "      <th>Rpter_Sex</th>\n",
       "      <th>Sme_Evt_Yn</th>\n",
       "    </tr>\n",
       "  </thead>\n",
       "  <tbody>\n",
       "    <tr>\n",
       "      <th>0</th>\n",
       "      <td>충남청</td>\n",
       "      <td>충청남도</td>\n",
       "      <td>아산시</td>\n",
       "      <td>2021-05-03</td>\n",
       "      <td>19</td>\n",
       "      <td>501</td>\n",
       "      <td>10</td>\n",
       "      <td>127.092762</td>\n",
       "      <td>36.781250</td>\n",
       "      <td>2</td>\n",
       "      <td>Y</td>\n",
       "    </tr>\n",
       "    <tr>\n",
       "      <th>1</th>\n",
       "      <td>대전청</td>\n",
       "      <td>대전광역시</td>\n",
       "      <td>유성구</td>\n",
       "      <td>2021-05-03</td>\n",
       "      <td>13</td>\n",
       "      <td>601</td>\n",
       "      <td>10</td>\n",
       "      <td>127.305689</td>\n",
       "      <td>36.332023</td>\n",
       "      <td>3</td>\n",
       "      <td>Y</td>\n",
       "    </tr>\n",
       "    <tr>\n",
       "      <th>2</th>\n",
       "      <td>대전청</td>\n",
       "      <td>대전광역시</td>\n",
       "      <td>유성구</td>\n",
       "      <td>2021-04-27</td>\n",
       "      <td>13</td>\n",
       "      <td>201</td>\n",
       "      <td>10</td>\n",
       "      <td>127.339578</td>\n",
       "      <td>36.347469</td>\n",
       "      <td>1</td>\n",
       "      <td>Y</td>\n",
       "    </tr>\n",
       "    <tr>\n",
       "      <th>3</th>\n",
       "      <td>충남청</td>\n",
       "      <td>충청남도</td>\n",
       "      <td>보령시</td>\n",
       "      <td>2021-05-01</td>\n",
       "      <td>19</td>\n",
       "      <td>201</td>\n",
       "      <td>10</td>\n",
       "      <td>126.534663</td>\n",
       "      <td>36.242860</td>\n",
       "      <td>3</td>\n",
       "      <td>Y</td>\n",
       "    </tr>\n",
       "    <tr>\n",
       "      <th>4</th>\n",
       "      <td>충남청</td>\n",
       "      <td>[공중전화]</td>\n",
       "      <td>충청남도</td>\n",
       "      <td>2021-05-01</td>\n",
       "      <td>19</td>\n",
       "      <td>601</td>\n",
       "      <td>10</td>\n",
       "      <td>126.692715</td>\n",
       "      <td>36.168714</td>\n",
       "      <td>3</td>\n",
       "      <td>Y</td>\n",
       "    </tr>\n",
       "  </tbody>\n",
       "</table>\n",
       "</div>"
      ],
      "text/plain": [
       "  Recv_Dept Nm       도     시 Recv_Cplt_Dm  Npa_Cl  Evt_CL_CD  Evt_Stat_Cd  \\\n",
       "0          충남청    충청남도   아산시   2021-05-03      19        501           10   \n",
       "1          대전청   대전광역시   유성구   2021-05-03      13        601           10   \n",
       "2          대전청   대전광역시   유성구   2021-04-27      13        201           10   \n",
       "3          충남청    충청남도   보령시   2021-05-01      19        201           10   \n",
       "4          충남청  [공중전화]  충청남도   2021-05-01      19        601           10   \n",
       "\n",
       "       Hppn_X     Hppn_Y  Rpter_Sex Sme_Evt_Yn  \n",
       "0  127.092762  36.781250          2          Y  \n",
       "1  127.305689  36.332023          3          Y  \n",
       "2  127.339578  36.347469          1          Y  \n",
       "3  126.534663  36.242860          3          Y  \n",
       "4  126.692715  36.168714          3          Y  "
      ]
     },
     "execution_count": 4,
     "metadata": {},
     "output_type": "execute_result"
    }
   ],
   "source": [
    "df=pd.read_csv('../result_data/split_city.csv',encoding='utf8')\n",
    "df.head()"
   ]
  },
  {
   "cell_type": "markdown",
   "id": "5e986533",
   "metadata": {},
   "source": [
    "### 월별 사건 사고 수 집계\n",
    "### Recv Cplt Dm 의 값이 str 이라서 DataFrame.timestamp로 변형"
   ]
  },
  {
   "cell_type": "code",
   "execution_count": 31,
   "id": "37d46dae",
   "metadata": {},
   "outputs": [
    {
     "data": {
      "text/plain": [
       "Recv_Dept Nm            object\n",
       "도                       object\n",
       "시                       object\n",
       "Recv_Cplt_Dm    datetime64[ns]\n",
       "Npa_Cl                   int64\n",
       "Evt_CL_CD                int64\n",
       "Evt_Stat_Cd              int64\n",
       "Hppn_X                 float64\n",
       "Hppn_Y                 float64\n",
       "Rpter_Sex                int64\n",
       "Sme_Evt_Yn              object\n",
       "dtype: object"
      ]
     },
     "execution_count": 31,
     "metadata": {},
     "output_type": "execute_result"
    }
   ],
   "source": [
    "df['Recv_Cplt_Dm'] = pd.to_datetime(df['Recv_Cplt_Dm'], format='%Y-%m-%d')\n",
    "df.dtypes"
   ]
  },
  {
   "cell_type": "markdown",
   "id": "66458b15",
   "metadata": {},
   "source": [
    "## 전체 사건의 합을 count 했을 때 12, 9, 10, 8, 5 ... 순서로 사고가 많이 일어남"
   ]
  },
  {
   "cell_type": "code",
   "execution_count": 32,
   "id": "0f0a3815",
   "metadata": {},
   "outputs": [],
   "source": [
    "df_month_countof_total=df.groupby(df.Recv_Cplt_Dm.dt.month)['Recv_Cplt_Dm'].count().sort_values(ascending=False)"
   ]
  },
  {
   "cell_type": "code",
   "execution_count": 33,
   "id": "9505d323",
   "metadata": {},
   "outputs": [
    {
     "data": {
      "text/plain": [
       "Recv_Cplt_Dm\n",
       "12    47807\n",
       "9     42864\n",
       "10    41893\n",
       "8     39402\n",
       "5     39374\n",
       "7     39166\n",
       "6     38840\n",
       "11    38490\n",
       "1     37013\n",
       "4     33085\n",
       "3     32000\n",
       "2     25232\n",
       "Name: Recv_Cplt_Dm, dtype: int64"
      ]
     },
     "execution_count": 33,
     "metadata": {},
     "output_type": "execute_result"
    }
   ],
   "source": [
    "df_month_countof_total"
   ]
  },
  {
   "cell_type": "markdown",
   "id": "cd360442",
   "metadata": {},
   "source": [
    "## 총 사건의 발생 수 내림차순 순서"
   ]
  },
  {
   "cell_type": "code",
   "execution_count": 48,
   "id": "38df58cb",
   "metadata": {},
   "outputs": [],
   "source": [
    "df_accident_countof_total=df.groupby(df.Evt_CL_CD)['Evt_CL_CD'].count().sort_values(ascending=False)"
   ]
  },
  {
   "cell_type": "code",
   "execution_count": 49,
   "id": "f9f6bd93",
   "metadata": {},
   "outputs": [
    {
     "data": {
      "text/plain": [
       "Evt_CL_CD\n",
       "307    68892\n",
       "501    41673\n",
       "401    37322\n",
       "301    32579\n",
       "201    28731\n",
       "601    25717\n",
       "302    24833\n",
       "210    19301\n",
       "509    16520\n",
       "406    15787\n",
       "107    14234\n",
       "604    14095\n",
       "508    11575\n",
       "305     9522\n",
       "306     9461\n",
       "402     9316\n",
       "104     8779\n",
       "503     6958\n",
       "403     5872\n",
       "211     5581\n",
       "505     5221\n",
       "215     4518\n",
       "208     3595\n",
       "308     3042\n",
       "304     2908\n",
       "303     2795\n",
       "506     2623\n",
       "206     2604\n",
       "609     2384\n",
       "205     2303\n",
       "606     1974\n",
       "603     1567\n",
       "209     1337\n",
       "108     1287\n",
       "202     1241\n",
       "502     1202\n",
       "212     1100\n",
       "106     1051\n",
       "607     1018\n",
       "207      926\n",
       "602      787\n",
       "204      608\n",
       "213      526\n",
       "610      339\n",
       "105      307\n",
       "507      234\n",
       "216      226\n",
       "214      214\n",
       "109      186\n",
       "504      157\n",
       "101       50\n",
       "102       35\n",
       "203       19\n",
       "605       13\n",
       "404       10\n",
       "103        6\n",
       "405        5\n",
       "Name: Evt_CL_CD, dtype: int64"
      ]
     },
     "execution_count": 49,
     "metadata": {},
     "output_type": "execute_result"
    }
   ],
   "source": [
    "df_accident_countof_total"
   ]
  },
  {
   "cell_type": "markdown",
   "id": "ea19ddf6",
   "metadata": {},
   "source": [
    "### 월별 401~406 Dataframe 분류"
   ]
  },
  {
   "cell_type": "code",
   "execution_count": 28,
   "id": "cf051c00",
   "metadata": {},
   "outputs": [],
   "source": [
    "df_transportation=df[(df['Evt_CL_CD']>400) & (df['Evt_CL_CD']<407)]"
   ]
  },
  {
   "cell_type": "markdown",
   "id": "837fcad5",
   "metadata": {},
   "source": [
    "## 월별 401~406 각각 사건 수\n",
    "## 401 406 402 403 404(5) 순서로 400번대 사건이 많이 일어남"
   ]
  },
  {
   "cell_type": "code",
   "execution_count": 40,
   "id": "fe5c7d4a",
   "metadata": {},
   "outputs": [],
   "source": [
    "df_month_countof=df_transportation.groupby(df_transportation.Recv_Cplt_Dm.dt.month)['Evt_CL_CD'].value_counts()"
   ]
  },
  {
   "cell_type": "code",
   "execution_count": 41,
   "id": "308f9b93",
   "metadata": {},
   "outputs": [
    {
     "data": {
      "text/plain": [
       "Recv_Cplt_Dm  Evt_CL_CD\n",
       "1             401          3202\n",
       "              406          1098\n",
       "              402           738\n",
       "              403           401\n",
       "              405             3\n",
       "2             401          2149\n",
       "              406           740\n",
       "              402           463\n",
       "              403           260\n",
       "3             401          2401\n",
       "              406          1027\n",
       "              402           550\n",
       "              403           394\n",
       "              405             1\n",
       "4             401          2626\n",
       "              406          1111\n",
       "              402           578\n",
       "              403           428\n",
       "              404             1\n",
       "5             401          3104\n",
       "              406          1503\n",
       "              402           670\n",
       "              403           553\n",
       "6             401          2869\n",
       "              406          1388\n",
       "              402           760\n",
       "              403           535\n",
       "              404             1\n",
       "              405             1\n",
       "7             401          3050\n",
       "              406          1391\n",
       "              402           766\n",
       "              403           537\n",
       "8             401          2991\n",
       "              406          1433\n",
       "              402           943\n",
       "              403           540\n",
       "9             401          3259\n",
       "              406          1588\n",
       "              402           894\n",
       "              403           683\n",
       "10            401          3454\n",
       "              406          1523\n",
       "              402           790\n",
       "              403           543\n",
       "11            401          3618\n",
       "              406          1379\n",
       "              402           951\n",
       "              403           564\n",
       "              404             2\n",
       "12            401          4599\n",
       "              406          1606\n",
       "              402          1213\n",
       "              403           434\n",
       "              404             6\n",
       "Name: Evt_CL_CD, dtype: int64"
      ]
     },
     "metadata": {},
     "output_type": "display_data"
    }
   ],
   "source": [
    "display(df_month_countof)"
   ]
  },
  {
   "cell_type": "markdown",
   "id": "46a9fb7e",
   "metadata": {},
   "source": [
    "## 월별 교통사고 수 합계"
   ]
  },
  {
   "cell_type": "code",
   "execution_count": 42,
   "id": "c9c3caba",
   "metadata": {},
   "outputs": [],
   "source": [
    "df_month_count_sum=df_transportation.groupby(df_transportation.Recv_Cplt_Dm.dt.month)['Evt_CL_CD'].count().sort_values(ascending=False).to_frame()"
   ]
  },
  {
   "cell_type": "markdown",
   "id": "8102382f",
   "metadata": {},
   "source": [
    "### 12 11 9 10 8 5 7 6 1 순서로 사고가 많이 일어남"
   ]
  },
  {
   "cell_type": "code",
   "execution_count": 43,
   "id": "32d3eea3",
   "metadata": {},
   "outputs": [
    {
     "data": {
      "text/html": [
       "<div>\n",
       "<style scoped>\n",
       "    .dataframe tbody tr th:only-of-type {\n",
       "        vertical-align: middle;\n",
       "    }\n",
       "\n",
       "    .dataframe tbody tr th {\n",
       "        vertical-align: top;\n",
       "    }\n",
       "\n",
       "    .dataframe thead th {\n",
       "        text-align: right;\n",
       "    }\n",
       "</style>\n",
       "<table border=\"1\" class=\"dataframe\">\n",
       "  <thead>\n",
       "    <tr style=\"text-align: right;\">\n",
       "      <th></th>\n",
       "      <th>Evt_CL_CD</th>\n",
       "    </tr>\n",
       "    <tr>\n",
       "      <th>Recv_Cplt_Dm</th>\n",
       "      <th></th>\n",
       "    </tr>\n",
       "  </thead>\n",
       "  <tbody>\n",
       "    <tr>\n",
       "      <th>12</th>\n",
       "      <td>7858</td>\n",
       "    </tr>\n",
       "    <tr>\n",
       "      <th>11</th>\n",
       "      <td>6514</td>\n",
       "    </tr>\n",
       "    <tr>\n",
       "      <th>9</th>\n",
       "      <td>6424</td>\n",
       "    </tr>\n",
       "    <tr>\n",
       "      <th>10</th>\n",
       "      <td>6310</td>\n",
       "    </tr>\n",
       "    <tr>\n",
       "      <th>8</th>\n",
       "      <td>5907</td>\n",
       "    </tr>\n",
       "    <tr>\n",
       "      <th>5</th>\n",
       "      <td>5830</td>\n",
       "    </tr>\n",
       "    <tr>\n",
       "      <th>7</th>\n",
       "      <td>5744</td>\n",
       "    </tr>\n",
       "    <tr>\n",
       "      <th>6</th>\n",
       "      <td>5554</td>\n",
       "    </tr>\n",
       "    <tr>\n",
       "      <th>1</th>\n",
       "      <td>5442</td>\n",
       "    </tr>\n",
       "    <tr>\n",
       "      <th>4</th>\n",
       "      <td>4744</td>\n",
       "    </tr>\n",
       "    <tr>\n",
       "      <th>3</th>\n",
       "      <td>4373</td>\n",
       "    </tr>\n",
       "    <tr>\n",
       "      <th>2</th>\n",
       "      <td>3612</td>\n",
       "    </tr>\n",
       "  </tbody>\n",
       "</table>\n",
       "</div>"
      ],
      "text/plain": [
       "              Evt_CL_CD\n",
       "Recv_Cplt_Dm           \n",
       "12                 7858\n",
       "11                 6514\n",
       "9                  6424\n",
       "10                 6310\n",
       "8                  5907\n",
       "5                  5830\n",
       "7                  5744\n",
       "6                  5554\n",
       "1                  5442\n",
       "4                  4744\n",
       "3                  4373\n",
       "2                  3612"
      ]
     },
     "metadata": {},
     "output_type": "display_data"
    }
   ],
   "source": [
    "display(df_month_count_sum)"
   ]
  }
 ],
 "metadata": {
  "kernelspec": {
   "display_name": "Python 3 (ipykernel)",
   "language": "python",
   "name": "python3"
  },
  "language_info": {
   "codemirror_mode": {
    "name": "ipython",
    "version": 3
   },
   "file_extension": ".py",
   "mimetype": "text/x-python",
   "name": "python",
   "nbconvert_exporter": "python",
   "pygments_lexer": "ipython3",
   "version": "3.9.13"
  }
 },
 "nbformat": 4,
 "nbformat_minor": 5
}
