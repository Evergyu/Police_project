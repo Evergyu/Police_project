{
 "cells": [
  {
   "cell_type": "code",
   "execution_count": 38,
   "id": "3f696e90",
   "metadata": {},
   "outputs": [],
   "source": [
    "import pandas as pd\n",
    "import numpy as np\n",
    "%matplotlib inline"
   ]
  },
  {
   "cell_type": "code",
   "execution_count": 39,
   "id": "73724ab0",
   "metadata": {},
   "outputs": [],
   "source": [
    "# row 생략 없이 출력\n",
    "pd.set_option('display.max_rows', None)\n",
    "# col 생략 없이 출력\n",
    "pd.set_option('display.max_columns', None)"
   ]
  },
  {
   "cell_type": "code",
   "execution_count": 44,
   "id": "5fb0458f",
   "metadata": {},
   "outputs": [
    {
     "data": {
      "text/html": [
       "<div>\n",
       "<style scoped>\n",
       "    .dataframe tbody tr th:only-of-type {\n",
       "        vertical-align: middle;\n",
       "    }\n",
       "\n",
       "    .dataframe tbody tr th {\n",
       "        vertical-align: top;\n",
       "    }\n",
       "\n",
       "    .dataframe thead th {\n",
       "        text-align: right;\n",
       "    }\n",
       "</style>\n",
       "<table border=\"1\" class=\"dataframe\">\n",
       "  <thead>\n",
       "    <tr style=\"text-align: right;\">\n",
       "      <th></th>\n",
       "      <th>Recv Cplt Dm</th>\n",
       "      <th>Recv Dept Nm</th>\n",
       "      <th>Sme Evt Yn</th>\n",
       "      <th>도</th>\n",
       "      <th>시</th>\n",
       "      <th>Evt Cl Cd</th>\n",
       "      <th>Evt Stat Cd</th>\n",
       "      <th>Hppn X</th>\n",
       "      <th>Hppn Y</th>\n",
       "      <th>Npa Cl</th>\n",
       "      <th>Rpter Sex</th>\n",
       "    </tr>\n",
       "  </thead>\n",
       "  <tbody>\n",
       "    <tr>\n",
       "      <th>0</th>\n",
       "      <td>2021-05-03</td>\n",
       "      <td>충남청</td>\n",
       "      <td>Y</td>\n",
       "      <td>충청남도</td>\n",
       "      <td>아산시</td>\n",
       "      <td>501</td>\n",
       "      <td>10</td>\n",
       "      <td>127.092762</td>\n",
       "      <td>36.781250</td>\n",
       "      <td>19</td>\n",
       "      <td>2</td>\n",
       "    </tr>\n",
       "    <tr>\n",
       "      <th>1</th>\n",
       "      <td>2021-05-03</td>\n",
       "      <td>대전청</td>\n",
       "      <td>Y</td>\n",
       "      <td>대전광역시</td>\n",
       "      <td>유성구</td>\n",
       "      <td>601</td>\n",
       "      <td>10</td>\n",
       "      <td>127.305689</td>\n",
       "      <td>36.332023</td>\n",
       "      <td>13</td>\n",
       "      <td>3</td>\n",
       "    </tr>\n",
       "    <tr>\n",
       "      <th>2</th>\n",
       "      <td>2021-04-27</td>\n",
       "      <td>대전청</td>\n",
       "      <td>Y</td>\n",
       "      <td>대전광역시</td>\n",
       "      <td>유성구</td>\n",
       "      <td>201</td>\n",
       "      <td>10</td>\n",
       "      <td>127.339578</td>\n",
       "      <td>36.347469</td>\n",
       "      <td>13</td>\n",
       "      <td>1</td>\n",
       "    </tr>\n",
       "    <tr>\n",
       "      <th>3</th>\n",
       "      <td>2021-05-01</td>\n",
       "      <td>충남청</td>\n",
       "      <td>Y</td>\n",
       "      <td>충청남도</td>\n",
       "      <td>보령시</td>\n",
       "      <td>201</td>\n",
       "      <td>10</td>\n",
       "      <td>126.534663</td>\n",
       "      <td>36.242860</td>\n",
       "      <td>19</td>\n",
       "      <td>3</td>\n",
       "    </tr>\n",
       "    <tr>\n",
       "      <th>4</th>\n",
       "      <td>2021-05-01</td>\n",
       "      <td>충남청</td>\n",
       "      <td>Y</td>\n",
       "      <td>[공중전화]</td>\n",
       "      <td>충청남도</td>\n",
       "      <td>601</td>\n",
       "      <td>10</td>\n",
       "      <td>126.692715</td>\n",
       "      <td>36.168714</td>\n",
       "      <td>19</td>\n",
       "      <td>3</td>\n",
       "    </tr>\n",
       "  </tbody>\n",
       "</table>\n",
       "</div>"
      ],
      "text/plain": [
       "  Recv Cplt Dm Recv Dept Nm Sme Evt Yn       도     시  Evt Cl Cd  Evt Stat Cd  \\\n",
       "0   2021-05-03          충남청          Y    충청남도   아산시        501           10   \n",
       "1   2021-05-03          대전청          Y   대전광역시   유성구        601           10   \n",
       "2   2021-04-27          대전청          Y   대전광역시   유성구        201           10   \n",
       "3   2021-05-01          충남청          Y    충청남도   보령시        201           10   \n",
       "4   2021-05-01          충남청          Y  [공중전화]  충청남도        601           10   \n",
       "\n",
       "       Hppn X     Hppn Y  Npa Cl  Rpter Sex  \n",
       "0  127.092762  36.781250      19          2  \n",
       "1  127.305689  36.332023      13          3  \n",
       "2  127.339578  36.347469      13          1  \n",
       "3  126.534663  36.242860      19          3  \n",
       "4  126.692715  36.168714      19          3  "
      ]
     },
     "execution_count": 44,
     "metadata": {},
     "output_type": "execute_result"
    }
   ],
   "source": [
    "df=pd.read_csv('../result_data/split_city_split_city.csv',encoding='utf8')\n",
    "df=df.drop(['F1'],axis=1)\n",
    "df.head()"
   ]
  },
  {
   "cell_type": "markdown",
   "id": "5e986533",
   "metadata": {},
   "source": [
    "월별 사건 사고 수 집계"
   ]
  },
  {
   "cell_type": "markdown",
   "id": "5bfcfd99",
   "metadata": {},
   "source": [
    "Recv Cplt Dm 의 값이 str 이라서 DataFrame.timestamp로 변형"
   ]
  },
  {
   "cell_type": "code",
   "execution_count": 45,
   "id": "37d46dae",
   "metadata": {},
   "outputs": [
    {
     "data": {
      "text/plain": [
       "Recv Cplt Dm            object\n",
       "Recv Dept Nm            object\n",
       "Sme Evt Yn              object\n",
       "도                       object\n",
       "시                       object\n",
       "Evt Cl Cd                int64\n",
       "Evt Stat Cd              int64\n",
       "Hppn X                 float64\n",
       "Hppn Y                 float64\n",
       "Npa Cl                   int64\n",
       "Rpter Sex                int64\n",
       "Recv_Cplt_Dm    datetime64[ns]\n",
       "dtype: object"
      ]
     },
     "execution_count": 45,
     "metadata": {},
     "output_type": "execute_result"
    }
   ],
   "source": [
    "df['Recv_Cplt_Dm'] = pd.to_datetime(df['Recv Cplt Dm'], format='%Y-%m-%d')\n",
    "df.dtypes"
   ]
  },
  {
   "cell_type": "code",
   "execution_count": 48,
   "id": "fe5c7d4a",
   "metadata": {},
   "outputs": [],
   "source": [
    "df_1month=df.groupby(df.Recv_Cplt_Dm.dt.month)['Evt Stat Cd'].value_counts()"
   ]
  },
  {
   "cell_type": "code",
   "execution_count": 49,
   "id": "308f9b93",
   "metadata": {},
   "outputs": [
    {
     "data": {
      "text/plain": [
       "Recv_Cplt_Dm  Evt Stat Cd\n",
       "1             10             36745\n",
       "              5                219\n",
       "              7                 21\n",
       "              9                 21\n",
       "              3                  5\n",
       "Name: Evt Stat Cd, dtype: int64"
      ]
     },
     "execution_count": 49,
     "metadata": {},
     "output_type": "execute_result"
    }
   ],
   "source": [
    "df_1month.head()"
   ]
  }
 ],
 "metadata": {
  "kernelspec": {
   "display_name": "Python 3 (ipykernel)",
   "language": "python",
   "name": "python3"
  },
  "language_info": {
   "codemirror_mode": {
    "name": "ipython",
    "version": 3
   },
   "file_extension": ".py",
   "mimetype": "text/x-python",
   "name": "python",
   "nbconvert_exporter": "python",
   "pygments_lexer": "ipython3",
   "version": "3.9.13"
  }
 },
 "nbformat": 4,
 "nbformat_minor": 5
}
